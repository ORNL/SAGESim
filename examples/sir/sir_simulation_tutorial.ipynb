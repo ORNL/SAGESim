{
 "cells": [
  {
   "cell_type": "markdown",
   "id": "95428787",
   "metadata": {},
   "source": [
    "# **SIR Agent-Based Model with Behavioral Heterogeneity**\n",
    "\n",
    "This notebook demonstrates how to implement an agent-based SIR (Susceptible–Infected–Recovered) model using the **`sagesim`** library.\n",
    "\n",
    "The classical **SIR model** provides a foundational framework in epidemiology for modeling the spread of infectious diseases. By extending it to an **agent-based model (ABM)**, we capture individual-level variation and interaction patterns, allowing us to simulate more realistic and heterogeneous dynamics of disease transmission.\n",
    "\n",
    "In this implementation:\n",
    "\n",
    "- Each **agent** represents an individual with a unique behavioral profile that influences their susceptibility to infection.\n",
    "- Agents occupy one of three states:\n",
    "  - **Susceptible**: Healthy, but at risk of infection.\n",
    "  - **Infected**: Currently infected and capable of spreading the disease.\n",
    "  - **Recovered**: No longer infectious and assumed immune.\n",
    "\n",
    "- **Transmission** occurs through interactions between *connected agents* (i.e., agents with network edges between them). Importantly, the probability of infection upon contact is **not uniform**. It depends on each agent's **preventative behaviors**, such as:\n",
    "  - Hygiene (e.g., handwashing, mask usage)\n",
    "  - Social distancing\n",
    "  - Vaccination status\n",
    "\n",
    "These behaviors are encoded as 100-dimensional vectors with values in \\([0, 1]\\), where higher values indicate stronger protection.\n",
    "\n",
    "##### **Transmission Behaviors**\n",
    "\n",
    "The infection decision follows these key steps:\n",
    "\n",
    "1. **Interaction Safety Evaluation**  \n",
    "   For each pairwise combination of the agent’s and its neighbor’s *preventative_measures*, a score is computed by multiplying the respective values. These products are summed to produce an aggregate measure of the *absolute safety of interaction*.\n",
    "\n",
    "2. **Normalization**  \n",
    "   The summed safety score is normalized by dividing by the square of the length of the preventative measures vector. This results in a *normalized safety score* in the range [0, 1], where higher values indicate stronger mutual preventative behavior.\n",
    "\n",
    "3. **Infection Rule**  \n",
    "   If a neighbor is **infected** (`neighbor_state == 2`), the agent has a chance to become infected depending on the infection probability `p_infection`, reduced by the *normalized safety score*. Specifically, infection occurs if a sampled random number is less than `p_infection × (1 - normalized safety score)`.\n",
    "\n",
    "4. **State Update**  \n",
    "   If the infection condition is met, the agent's state is updated from **susceptible** to **infected**.\n"
   ]
  },
  {
   "cell_type": "markdown",
   "id": "188a9e42",
   "metadata": {},
   "source": [
    "##### **Workflow Overview**\n",
    "\n",
    "In the remainder of this notebook, we will build a behavior-aware SIR agent-based model using the `sagesim` library. The following steps mirror the procedure outlined in the project README:\n",
    "\n",
    "1. **Define the `SIRModel` class**  \n",
    "   Subclass the `Model` class from `sagesim` to implement the SIR logic, including state transitions and transmission dynamics influenced by agents’ protective behaviors.\n",
    "\n",
    "2. **Instantiate the model on a contact network**  \n",
    "   Construct a *Watts–Strogatz* small-world network to represent social interactions. Each node corresponds to an agent, and edges define potential transmission pathways. We initialize the `SIRModel` with this network and a population of behaviorally heterogeneous agents.\n",
    "\n",
    "3. **Run the simulation and analyze results**  \n",
    "   Simulate disease spread over time and analyze how individual behaviors shape the epidemic curve and overall dynamics.\n"
   ]
  },
  {
   "cell_type": "markdown",
   "id": "ce2d8c42",
   "metadata": {},
   "source": [
    "## Define the `SIRModel` class ##"
   ]
  },
  {
   "cell_type": "markdown",
   "id": "312153e7",
   "metadata": {},
   "source": [
    "### 1. **Define and Register `SIRBreed`**\n",
    "\n",
    "As explained earlier, we begin by defining a custom breed by subclassing the `Breed` class from the `sagesim` library. In the SIR model, we use a single breed to represent the general population. This breed is implemented as the `SIRBreed` class.\n",
    "\n",
    "- Each agent in this breed has two primary properties:\n",
    "\n",
    "    - **`state`**: A categorical variable indicating the agent's infection status. We encode the three SIR states as:\n",
    "        - `1` — Susceptible  \n",
    "        - `2` — Infected  \n",
    "        - `3` — Recovered\n",
    "\n",
    "    - **`preventative_measures`**: A list of 100 floating-point values that capture the agent’s individual behavior traits—such as hygiene practices, social distancing adherence, or vaccination status—that influence their likelihood of infection.\n",
    "\n",
    "- Recall we register step functions with specified priority levels to define how agents of a breed behave at each simulation step. In the case of the SIR model, we use a single step function that governs how an agent's state evolves over time—for instance, determining whether a susceptible agent becomes infected or an infected agent recovers."
   ]
  },
  {
   "cell_type": "code",
   "execution_count": 1,
   "id": "fcf00de0",
   "metadata": {},
   "outputs": [],
   "source": [
    "from enum import Enum\n",
    "from time import time\n",
    "from random import random, sample\n",
    "import networkx as nx\n",
    "from statistics import mean\n",
    "from mpi4py import MPI\n",
    "\n",
    "\n",
    "\n",
    "# import the Breed class from sagesim\n",
    "from sagesim.breed import Breed\n",
    "\n",
    "# Define the SIRState enumeration for agent states\n",
    "class SIRState(Enum):\n",
    "    SUSCEPTIBLE = 1\n",
    "    INFECTED = 2\n",
    "    RECOVERED = 3\n",
    "\n",
    "# Define the step function to be registered for SIRBreed\n",
    "def step_func(agent_ids, agent_index, globals, breeds, locations, state_adt, preventative_measures_adt):\n",
    "    \"\"\"\n",
    "    At each simulation step, this function evaluates a subset of agents—either all agents in a serial run or a partition assigned to\n",
    "    a specific rank in parallel processing—and determines whether an agent's state should change based on interactions with its neighbors\n",
    "    and their respective preventative behaviors.\n",
    "\n",
    "    Parameters:\n",
    "    ----------\n",
    "    agent_ids : list[int]\n",
    "        The adt that contains the IDs of all agents assigned to the current rank, and their neighbors.\n",
    "    agent_index : int\n",
    "        Index of the agent being evaluated in the agent_ids list. \n",
    "    globals : list\n",
    "        Global parameters; \n",
    "        the zero-th global parameter is by default the simulation tick, \n",
    "        the first item will be our infection probability $p$.\n",
    "        the second item is the susceptibility reduction strength $alpha$.\n",
    "        the third item is the infectiousness reduction strength $beta$.\n",
    "    breeds : list\n",
    "        List of breed objects (unused here as we only have one type of breed, but must passed for interface compatibility).\n",
    "    locations : list[list[int]]\n",
    "        Adjacency list specifying neighbors for each agent.\n",
    "    state_adt : list[int]\n",
    "        List of current state of each agent.\n",
    "    preventative_measures_adt : list[list[float]]\n",
    "        List of vectors representing each agent’s preventative behaviors. \n",
    "    Returns:\n",
    "    -------\n",
    "    None\n",
    "        The function updates the `states` list in-place if an agent becomes infected.\n",
    "    \"\"\"\n",
    "    # Get the list of neighboring agent IDs for the current agent based on network topology\n",
    "    neighbor_ids = locations[agent_index]\n",
    "\n",
    "    # Draw a random float in [0, 1) for stochastic decision-making\n",
    "    rand = random()  # can replace with step_func_helper_get_random_float(rng_states, id)\n",
    "\n",
    "    # Retrieve the global infection probability defined in the model\n",
    "    p_infection = globals[1]\n",
    "\n",
    "    # Get the preventative measures vector for the current agent\n",
    "    agent_preventative_measures = preventative_measures_adt[agent_index]\n",
    "\n",
    "    # Loop through each neighbor ID\n",
    "    for i in range(len(neighbor_ids)):\n",
    "\n",
    "        # Initialize neighbor_index to invalid value\n",
    "        neighbor_index = -1\n",
    "\n",
    "        i = 0\n",
    "        while i < len(agent_ids) and agent_ids[i] != neighbor_ids[0]:\n",
    "            i += 1\n",
    "        if i < len(agent_ids):\n",
    "            neighbor_index = i\n",
    "\n",
    "            # Retrieve the state of the neighbor (e.g., susceptible, infected, recovered)\n",
    "            neighbor_state = int(state_adt[neighbor_index])\n",
    "\n",
    "            # Get the preventative measures vector of the neighbor\n",
    "            neighbor_preventative_measures = preventative_measures_adt[neighbor_index]\n",
    "\n",
    "            # Initialize cumulative safety score for the interaction\n",
    "            abs_safety_of_interaction = 0.0\n",
    "\n",
    "            # Calculate total safety of interaction based on pairwise product of measures\n",
    "            for n in range(len(agent_preventative_measures)):\n",
    "                for m in range(len(neighbor_preventative_measures)):\n",
    "                    abs_safety_of_interaction += (\n",
    "                        agent_preventative_measures[n] * neighbor_preventative_measures[m]\n",
    "                    )\n",
    "\n",
    "            # Normalize the safety score to be in [0, 1]\n",
    "            normalized_safety_of_interaction = abs_safety_of_interaction / (\n",
    "                len(agent_preventative_measures) ** 2\n",
    "            )\n",
    "\n",
    "            # If neighbor is infected and the infection condition passes, update agent’s state\n",
    "            if neighbor_state == 2 and rand < p_infection * (\n",
    "                1 - normalized_safety_of_interaction\n",
    "            ):\n",
    "                state_adt[agent_index] = 2  # Agent becomes infected\n"
   ]
  },
  {
   "cell_type": "markdown",
   "id": "fcc644ca",
   "metadata": {},
   "source": [
    "Now we are ready to define the `SIRBreed` class, which inherits from the base `Breed` class.\n",
    "\n",
    "- Each breed must be given a unique name. This name is used internally by `sagesim` to identify and manage the breed.\n",
    "- When calling `register_property`, you can optionally specify an initial value to assign to all agents of this breed. If not provided, the default is `nan`. You may also override this value when creating individual agents.\n",
    "- The breed's behavior is defined by registering one or more step functions using `register_step_function()`. You can specify a priority for each function, with the default being `0`."
   ]
  },
  {
   "cell_type": "code",
   "execution_count": 2,
   "id": "53567620",
   "metadata": {},
   "outputs": [],
   "source": [
    "\n",
    "class SIRBreed(Breed):\n",
    "    \"\"\"\n",
    "    SIRBreed class the SIR model.\n",
    "    Inherits from the Breed class in the sagesim library.\n",
    "    \"\"\"\n",
    "\n",
    "    def __init__(self) -> None:\n",
    "        name = \"SIR\"\n",
    "        super().__init__(name) \n",
    "        # Register properties for the breed\n",
    "        self.register_property(\"state\", SIRState.SUSCEPTIBLE.value) \n",
    "        self.register_property(\"preventative_measures\", [random() for _ in range(100)])\n",
    "        # Register the step function\n",
    "        self.register_step_func(step_func)\n"
   ]
  },
  {
   "cell_type": "markdown",
   "id": "cdd3e180",
   "metadata": {},
   "source": [
    "A susceptible agent checks whether any of its infected neighbors has successfully infected it. If so, it updates only its own state (e.g., from susceptible to infected). Since agents do not modify the state of others, no data conflicts arise across ranks, and therefore, no reduce function is needed.\n",
    "\n",
    "We are now ready to initialize the `SIRModel`:\n",
    " - register breed\n",
    " - register globle properities\n",
    " - make class methods `create_agent()` and `connect_agent()` to create and create neighborhood of agents"
   ]
  },
  {
   "cell_type": "code",
   "execution_count": 3,
   "id": "77271d9b",
   "metadata": {},
   "outputs": [],
   "source": [
    "from sagesim.model import Model\n",
    "from sagesim.space import NetworkSpace # hopefully, we can avoid this import\n",
    "\n",
    "\n",
    "class SIRModel(Model):\n",
    "    \"\"\"\n",
    "    SIRModel class for the SIR model.\n",
    "    Inherits from the Model class in the sagesim library.\n",
    "    \"\"\"\n",
    "\n",
    "    def __init__(self, p_infection=1.0) -> None:\n",
    "        space = NetworkSpace()\n",
    "        super().__init__(space)\n",
    "        self._sir_breed = SIRBreed()\n",
    "\n",
    "        # Register the breed\n",
    "        self.register_breed(breed=self._sir_breed)\n",
    "\n",
    "        # register user-defined global properties\n",
    "        self.register_global_property(\"p_infection\", p_infection)\n",
    "\n",
    "    # create_agent method takes user-defined properties, that is, the state and preventative_measures, to create an agent\n",
    "    def create_agent(self, state, preventative_measures):\n",
    "        agent_id = self.create_agent_of_breed(\n",
    "            self._sir_breed, state=state, preventative_measures=preventative_measures\n",
    "        )\n",
    "        self.get_space().add_agent(agent_id)\n",
    "        return agent_id\n",
    "\n",
    "    def connect_agents(self, agent_0, agent_1):\n",
    "        self.get_space().connect_agents(agent_0, agent_1)\n"
   ]
  },
  {
   "cell_type": "markdown",
   "id": "e37be0cd",
   "metadata": {},
   "source": [
    "## **Instantiate the SIR Model**\n",
    "\n",
    "1. **Generate the Contact Network**  \n",
    "   Create a *Watts–Strogatz* small-world graph to approximate real-world contact patterns. This topology offers high clustering and short average path lengths, making it ideal for modeling disease transmission. Each node represents an agent, and each edge represents a potential transmission link.\n",
    "\n",
    "2. **Create and Add Agents**  \n",
    "   Instantiate the `SIRModel`, then call `create_agent()` for each node to initialize agents in the **susceptible** state with their corresponding `preventative_measures` vector.\n",
    "\n",
    "3. **Connect Agents**  \n",
    "   Use the model’s `connect_agents(agent_a, agent_b)` method to add edges between agents according to the network structure.\n",
    "\n",
    "4. **Initialize Infections**  \n",
    "   Randomly select `num_infected` agents and set their state to **infected** to seed the simulation.\n"
   ]
  },
  {
   "cell_type": "code",
   "execution_count": 4,
   "id": "45e27b1e",
   "metadata": {},
   "outputs": [],
   "source": [
    "num_agents = 1000\n",
    "num_init_connections = 20\n",
    "rewiring_prob = 0.1\n",
    "\n",
    "num_infected = 10\n",
    "\n",
    "# Generate the Contact Network\n",
    "network = nx.watts_strogatz_graph(num_agents, num_init_connections, rewiring_prob)\n",
    "\n",
    "# Instantiate the SIR Model\n",
    "model = SIRModel()\n",
    "model.setup(use_gpu=True)  # Enables GPU acceleration if available\n",
    "\n",
    "# Create agents \n",
    "for n in network.nodes:\n",
    "    preventative_measures = [random() for _ in range(100)] \n",
    "    model.create_agent(SIRState.SUSCEPTIBLE.value, preventative_measures)\n",
    "\n",
    "# Connect agents in the network\n",
    "for edge in network.edges:\n",
    "    model.connect_agents(edge[0], edge[1])\n",
    "\n",
    "# Infect a random sample of agents  \n",
    "for n in sample(sorted(network.nodes), num_infected):\n",
    "    model.set_agent_property_value(n, \"state\", SIRState.INFECTED.value)"
   ]
  },
  {
   "cell_type": "markdown",
   "id": "2a1ba222",
   "metadata": {},
   "source": [
    "## **Run the Simulation and Analyze Results**\n",
    "\n",
    "To run the simulation, we use `model.simulate(ticks=10, sync_workers_every_n_ticks=1)` to simulate 10 time steps with synchronization after each tick.\n",
    "\n",
    "- **Single-Rank Execution**:  \n",
    "  We can first run the simulation using a single MPI rank by executing the cell directly. We also measure the execution time to establish a performance baseline.\n",
    "\n",
    "- **Multi-Rank Execution**:  \n",
    "  To evaluate performance with multiple ranks, the simulation must be executed in a parallel environment. Since this is not supported within the current notebook, we can run the same code in a separate script using the following command: `mpiexec -n 4 python tutorial_run.py`\n",
    "  \n"
   ]
  },
  {
   "cell_type": "code",
   "execution_count": 5,
   "id": "388bf68d",
   "metadata": {},
   "outputs": [
    {
     "name": "stdout",
     "output_type": "stream",
     "text": [
      "Simulation with 1 rank took 2.04 seconds.\n"
     ]
    }
   ],
   "source": [
    "# # MPI environment setup\n",
    "comm = MPI.COMM_WORLD\n",
    "num_workers = comm.Get_size()\n",
    "worker = comm.Get_rank()\n",
    "\n",
    "# Run the simulation with 1 rank, and measure the time taken\n",
    "simulate_start = time()\n",
    "model.simulate(ticks = 10, sync_workers_every_n_ticks=1)\n",
    "simulate_end = time()\n",
    "simulate_duration = simulate_end - simulate_start\n",
    "print(f\"Simulation with 1 rank took {simulate_duration:.2f} seconds.\")\n"
   ]
  },
  {
   "cell_type": "code",
   "execution_count": 6,
   "id": "7f16d833",
   "metadata": {},
   "outputs": [
    {
     "name": "stdout",
     "output_type": "stream",
     "text": [
      "Number of infected agents: 10\n",
      "Number of recovered agents: 0\n",
      "Number of susceptible agents: 990\n"
     ]
    }
   ],
   "source": [
    "# Get the state of each agents after 10 simulation runs\n",
    "result = [\n",
    "    SIRState(model.get_agent_property_value(agent_id, property_name=\"state\"))\n",
    "    for agent_id in range(num_agents)\n",
    "    if model.get_agent_property_value(agent_id, property_name=\"state\") is not None\n",
    "]\n",
    "\n",
    "# count the number of infected agents\n",
    "num_infected = sum(1 for state in result if state == SIRState.INFECTED)\n",
    "num_recovered = sum(1 for state in result if state == SIRState.RECOVERED)\n",
    "num_susceptible = sum(1 for state in result if state == SIRState.SUSCEPTIBLE)\n",
    "print(f\"Number of infected agents: {num_infected}\")\n",
    "print(f\"Number of recovered agents: {num_recovered}\")\n",
    "print(f\"Number of susceptible agents: {num_susceptible}\")"
   ]
  },
  {
   "cell_type": "code",
   "execution_count": 8,
   "id": "e398d5ed",
   "metadata": {},
   "outputs": [
    {
     "name": "stdout",
     "output_type": "stream",
     "text": [
      "Simulation took 1.63 seconds.\n",
      "Number of infected agents: 11\n",
      "Number of recovered agents: 0\n",
      "Number of susceptible agents: 989\n"
     ]
    }
   ],
   "source": [
    "!mpirun -n 4 python tutorial_run.py"
   ]
  },
  {
   "cell_type": "markdown",
   "id": "96fa4e8f",
   "metadata": {},
   "source": [
    "\n",
    "\n"
   ]
  }
 ],
 "metadata": {
  "kernelspec": {
   "display_name": "sagesim",
   "language": "python",
   "name": "python3"
  },
  "language_info": {
   "codemirror_mode": {
    "name": "ipython",
    "version": 3
   },
   "file_extension": ".py",
   "mimetype": "text/x-python",
   "name": "python",
   "nbconvert_exporter": "python",
   "pygments_lexer": "ipython3",
   "version": "3.13.2"
  }
 },
 "nbformat": 4,
 "nbformat_minor": 5
}
