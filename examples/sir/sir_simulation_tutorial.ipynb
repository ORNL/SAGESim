{
 "cells": [
  {
   "cell_type": "markdown",
   "id": "95428787",
   "metadata": {},
   "source": [
    "## SAGESim Implementation: SIR Model Example\n",
    "\n",
    "We demonstrate how to implement an **Agent-Based Model (ABM)** of the **Susceptible-Infected-Recovered (SIR)** model using the **sagesim** library. **sagesim** is a powerful tool for large-scale agent-based simulations, utilizing parallel computing to model complex systems such as disease spread across large populations. By the end of this notebook, you will not only have a fully functional **SIR-ABM simulator** that illustrates how individual agent behaviors influence disease transmission dynamics, but also gain valuable insights into how the **sagesim** library works, enabling you to effectively leverage this tool for your own tasks.\n",
    "\n",
    "---\n",
    "\n",
    "### **ABM-SIR Model**\n",
    "\n",
    "The **SIR model** is a fundamental framework in epidemiology for understanding how infectious diseases spread through a population. By employing **ABM**, we can simulate disease dynamics at the individual level, capturing the complexity of interactions between individuals and how these interactions drive disease transmission.\n",
    "\n",
    "In this notebook, we focus on an ABM implementation of the SIR model, where each **agent** represents an individual with unique characteristics—specifically, their **preventative measures**. These preventative measures influence how each agent responds to exposure and ultimately affect the spread of disease throughout the population. Each agent can be in one of the following three states:\n",
    "\n",
    "- **Susceptible**: The agent is healthy but vulnerable to infection upon contact with an infected agent.\n",
    "- **Infected**: The agent is currently carrying the disease and can transmit it to susceptible agents through interactions.\n",
    "- **Recovered**: The agent has recovered from the infection and is assumed to be immune, meaning they are no longer at risk of reinfection.\n",
    "\n",
    "Disease transmission occurs through interactions between agents. Importantly, the probability of a susceptible agent becoming infected is **not uniform**—it depends on their individual preventative behaviors. These behaviors, encoded as each agent's internal **preventative measures**, reflect real-world health practices such as:\n",
    "\n",
    "- Hygiene practices (e.g., handwashing, mask-wearing)\n",
    "- Social distancing\n",
    "- Vaccination status\n",
    "\n",
    "Agents with stronger preventative measures are **less likely** to become infected, even when exposed to the virus. This heterogeneity introduces realism to the model, allowing us to study how individual differences in behavior impact the overall dynamics of disease spread.\n",
    "\n",
    "---\n",
    "\n",
    "### **`sagesim` Implementation**\n",
    "\n",
    "In this notebook, we will walk you through the detailed process of creating and simulating a **SIR-ABM** using the **sagesim** library. The modeling process involves defining two key functions and implementing two core Python classes:\n",
    "\n",
    "1. **`step_func()`**  \n",
    "   This function specifies the behavior of agents in a particular breed over time. It determines how agents transition between states—such as moving from **Susceptible** to **Infected**—based on interactions and predefined rules, essentially defining the agent's behavior at each time step.\n",
    "\n",
    "2. **`reduce_agent_data_tensors_()`**  \n",
    "   **sagesim** operates using parallel computing, where agents are distributed across multiple compute nodes or GPUs. After executing the predefined steps, the simulation generates copies of agent data across different nodes. This function handles the logical combination (or \"reduction\") of those copies into a single consistent version.\n",
    "\n",
    "3. **`class SIRBreed(Breed)`**  \n",
    "   This problem-specific breed class, **SIRBreed**, is a subclass of the `Breed` class in **sagesim**. It is responsible for registering the properties and the `step_func()`.\n",
    "\n",
    "4. **`class SIRModel(Model)`**  \n",
    "   The problem-specific model class, **SIRModel**, is a subclass of the `Model` class from **sagesim**. It defines the SIR-ABM model by registering the breed(s) and the reduction function, while managing the creation and connection of agents.\n",
    "\n",
    "Once the SIRModel is defined, we can use it to create the corresponding ABM model, and simulate the spread of disease across the population.\n",
    "\n"
   ]
  },
  {
   "cell_type": "code",
   "execution_count": null,
   "id": "53567620",
   "metadata": {},
   "outputs": [],
   "source": [
    "from sagesim.breed import Breed\n",
    "from sagesim.model import Model\n",
    "from sagesim.space import NetworkSpace\n",
    "\n",
    "import cupy as cp\n",
    "\n",
    "\n",
    "def step_func(\n",
    "    agent_ids,\n",
    "    agent_index,\n",
    "    globals,\n",
    "    breeds,\n",
    "    locations,\n",
    "    popularities,\n",
    "    vehicle_nums,\n",
    "):\n",
    "\n",
    "    # Get agent's vehicle number and neighbors' locations\n",
    "    agent_vehicle_num = vehicle_nums[agent_index]\n",
    "    # Zero out agent's vehicle count\n",
    "    vehicle_nums[agent_index] = agent_vehicle_num\n",
    "    neighbor_ids = locations[agent_index]\n",
    "\n",
    "    # find total popularity of all neighbors\n",
    "    total_popularity = cp.float64(0)\n",
    "    neighbor_i = 0\n",
    "    while not cp.isnan(neighbor_ids[neighbor_i]) and neighbor_i < len(neighbor_ids):\n",
    "        neighbor_id = neighbor_ids[neighbor_i]\n",
    "        # Find the index of the neighbor_id in agent_ids\n",
    "        neighbor_index = -1\n",
    "        i = 0\n",
    "        while i < len(agent_ids) and agent_ids[i] != neighbor_id:\n",
    "            i += 1\n",
    "        if i < len(agent_ids):\n",
    "            neighbor_index = i\n",
    "            neighbor_popularity = popularities[int(neighbor_index)]\n",
    "            total_popularity += neighbor_popularity\n",
    "        neighbor_i += 1\n",
    "\n",
    "    remainder = agent_vehicle_num\n",
    "    largest_alloc = 0\n",
    "\n",
    "    if total_popularity > 0:\n",
    "        remainder_alloc_index = -1\n",
    "        neighbor_i = 0\n",
    "        while not cp.isnan(neighbor_ids[neighbor_i]) and neighbor_i < len(neighbor_ids):\n",
    "            neighbor_id = neighbor_ids[neighbor_i]\n",
    "            # Find the index of the neighbor_id in agent_ids\n",
    "            neighbor_index = 0\n",
    "            while (\n",
    "                neighbor_index < len(agent_ids)\n",
    "                and agent_ids[neighbor_index] != neighbor_id\n",
    "            ):\n",
    "                neighbor_index += 1\n",
    "            if (neighbor_index < len(agent_ids)) and (agent_ids[i] != neighbor_id):\n",
    "                neighbor_popularity = popularities[int(neighbor_index)]\n",
    "\n",
    "                neighbor_allocation = int(\n",
    "                    agent_vehicle_num * neighbor_popularity / total_popularity\n",
    "                )\n",
    "                # find the top popularity neighbor\n",
    "                if neighbor_allocation > largest_alloc:\n",
    "                    remainder_alloc_index = neighbor_index\n",
    "                    largest_alloc = neighbor_allocation\n",
    "\n",
    "                remainder -= neighbor_allocation\n",
    "            neighbor_i += 1\n",
    "\n",
    "        # Distribute the remainder (due to rounding) to top contributors\n",
    "        if remainder > 0 and remainder_alloc_index >= 0:\n",
    "            vehicle_nums[int(remainder_alloc_index)] += remainder\n",
    "\n"
   ]
  },
  {
   "cell_type": "code",
   "execution_count": null,
   "id": "77271d9b",
   "metadata": {},
   "outputs": [],
   "source": [
    "\n",
    "def reduce_agent_data_tensors_(adts_A, adts_B):\n",
    "    result = []\n",
    "    # breed would be same as first\n",
    "    result.append(adts_A[0])\n",
    "    # network would be same as first\n",
    "    result.append(adts_A[1])\n",
    "    # OSMnxid would be same as first\n",
    "    result.append(adts_A[2])\n",
    "    # Popularity would be samge as first\n",
    "    result.append(adts_A[3])\n",
    "    # Num of vehicles at this intersection would be summed\n",
    "    result.append(adts_A[4] + adts_B[4])\n",
    "    return result\n"
   ]
  },
  {
   "cell_type": "code",
   "execution_count": null,
   "id": "7d2d71eb",
   "metadata": {},
   "outputs": [],
   "source": [
    "\n",
    "class SFRBreed(Breed):\n",
    "\n",
    "    def __init__(self) -> None:\n",
    "        name = \"SFR\"\n",
    "        super().__init__(name)\n",
    "\n",
    "        # register osmnxid\n",
    "        # self.register_property(\"osmnxid\")\n",
    "\n",
    "        # popularity of the agent, real value between [0,1]\n",
    "        self.register_property(\"popularity\", default=0.5)\n",
    "\n",
    "        # number of vehicles at the current agent/node/intersection\n",
    "        self.register_property(\"vehicle_num\", default=10)\n",
    "\n",
    "        self.register_step_func(step_func)\n",
    "\n"
   ]
  },
  {
   "cell_type": "code",
   "execution_count": null,
   "id": "715aaefb",
   "metadata": {},
   "outputs": [],
   "source": [
    "\n",
    "class SFRModel(Model):\n",
    "\n",
    "    def __init__(self) -> None:\n",
    "        space = NetworkSpace()\n",
    "        super().__init__(space)\n",
    "        self._sfr_breed = SFRBreed()\n",
    "        self.register_breed(breed=self._sfr_breed)\n",
    "        self.register_reduce_function(reduce_agent_data_tensors_)\n",
    "\n",
    "    def create_agent(self, popularity, vehicle_num):\n",
    "        agent_id = self.create_agent_of_breed(\n",
    "            self._sfr_breed,\n",
    "            popularity=popularity,\n",
    "            vehicle_num=vehicle_num,\n",
    "        )\n",
    "        self.get_space().add_agent(agent_id)\n",
    "        return agent_id\n",
    "\n",
    "    def connect_agents(self, agent_0, agent_1):\n",
    "        self.get_space().connect_agents(agent_0, agent_1)\n"
   ]
  },
  {
   "cell_type": "markdown",
   "id": "e37be0cd",
   "metadata": {},
   "source": [
    "## Generate Small-World Network\n",
    "We use the Watts-Strogatz model to generate a small-world network."
   ]
  },
  {
   "cell_type": "code",
   "execution_count": null,
   "id": "45e27b1e",
   "metadata": {},
   "outputs": [],
   "source": [
    "from time import time\n",
    "from random import random, sample\n",
    "import networkx as nx\n",
    "from mpi4py import MPI\n",
    "\n",
    "\n",
    "# MPI environment setup\n",
    "comm = MPI.COMM_WORLD\n",
    "num_workers = comm.Get_size()\n",
    "worker = comm.Get_rank()\n",
    "\n",
    "def generate_small_world_network(n, k, p):\n",
    "    \"\"\"\n",
    "    Generate a small-world network using the Watts-Strogatz model.\n",
    "\n",
    "    Parameters:\n",
    "    - n (int): Number of nodes (agents).\n",
    "    - k (int): Each node is connected to its k nearest neighbors.\n",
    "    - p (float): Probability of rewiring an edge (introduces randomness).\n",
    "\n",
    "    Returns:\n",
    "    - networkx.Graph: Generated network.\n",
    "    \"\"\"\n",
    "    return nx.watts_strogatz_graph(n, k, p)"
   ]
  },
  {
   "cell_type": "markdown",
   "id": "ebc820f2",
   "metadata": {},
   "source": [
    "## 👥 Create and Initialize Agents\n",
    "Agents are placed in the network and randomly assigned an initial state.\n",
    "\n",
    "\n",
    "In this simple SIR model, we define only **one breed**, representing the general population. "
   ]
  },
  {
   "cell_type": "code",
   "execution_count": 13,
   "id": "333046e0",
   "metadata": {},
   "outputs": [],
   "source": [
    "def generate_small_world_of_agents(model, num_agents: int, num_init_connections: int, num_infected: int) -> SIRModel:\n",
    "    \"\"\"\n",
    "    Create a SIR model with agents in a small-world network topology.\n",
    "\n",
    "    Parameters:\n",
    "    - model (SIRModel): An instance of the SIR model.\n",
    "    - num_agents (int): Total number of agents.\n",
    "    - num_init_connections (int): Each agent is connected to this many neighbors.\n",
    "    - num_infected (int): Number of initially infected agents.\n",
    "\n",
    "    Returns:\n",
    "    - SIRModel: Initialized model with agents and connections.\n",
    "    \"\"\"\n",
    "    network = generate_small_world_network(num_agents, num_init_connections, 0.2)\n",
    "\n",
    "    for n in network.nodes:\n",
    "        preventative_measures = [random() for _ in range(100)]\n",
    "        model.create_agent(SIRState.SUSCEPTIBLE.value, preventative_measures)\n",
    "\n",
    "    for n in sample(sorted(network.nodes), num_infected):\n",
    "        model.set_agent_property_value(n, \"state\", SIRState.INFECTED.value)\n",
    "\n",
    "    for edge in network.edges:\n",
    "        model.connect_agents(edge[0], edge[1])\n",
    "\n",
    "    return model"
   ]
  },
  {
   "cell_type": "markdown",
   "id": "2a1ba222",
   "metadata": {},
   "source": [
    "## ⚙️ Define Simulation Parameters\n",
    "You can modify these values to run different configurations."
   ]
  },
  {
   "cell_type": "code",
   "execution_count": 14,
   "id": "388bf68d",
   "metadata": {},
   "outputs": [],
   "source": [
    "num_agents = 1000\n",
    "num_init_connections = 6\n",
    "num_nodes = 1  # Logical nodes, can be used for partitioning"
   ]
  },
  {
   "cell_type": "markdown",
   "id": "fb294248",
   "metadata": {},
   "source": [
    "## 🛠️ Set up the SIR Model"
   ]
  },
  {
   "cell_type": "code",
   "execution_count": null,
   "id": "1fb5607a",
   "metadata": {},
   "outputs": [
    {
     "ename": "AttributeError",
     "evalue": "'SIRModel' object has no attribute 'register_reduce_function'",
     "output_type": "error",
     "traceback": [
      "\u001b[31m---------------------------------------------------------------------------\u001b[39m",
      "\u001b[31mAttributeError\u001b[39m                            Traceback (most recent call last)",
      "\u001b[36mCell\u001b[39m\u001b[36m \u001b[39m\u001b[32mIn[15]\u001b[39m\u001b[32m, line 1\u001b[39m\n\u001b[32m----> \u001b[39m\u001b[32m1\u001b[39m model = \u001b[43mSIRModel\u001b[49m\u001b[43m(\u001b[49m\u001b[43m)\u001b[49m\n\u001b[32m      2\u001b[39m model.setup(use_gpu=\u001b[38;5;28;01mTrue\u001b[39;00m)  \u001b[38;5;66;03m# Enables GPU acceleration if available\u001b[39;00m\n",
      "\u001b[36mFile \u001b[39m\u001b[32m~/SAGESim/examples/sir/sir_model.py:26\u001b[39m, in \u001b[36mSIRModel.__init__\u001b[39m\u001b[34m(self, p_infection)\u001b[39m\n\u001b[32m     24\u001b[39m \u001b[38;5;28mself\u001b[39m.register_breed(breed=\u001b[38;5;28mself\u001b[39m._sir_breed)\n\u001b[32m     25\u001b[39m \u001b[38;5;28mself\u001b[39m.register_global_property(\u001b[33m\"\u001b[39m\u001b[33mp_infection\u001b[39m\u001b[33m\"\u001b[39m, p_infection)\n\u001b[32m---> \u001b[39m\u001b[32m26\u001b[39m \u001b[38;5;28;43mself\u001b[39;49m\u001b[43m.\u001b[49m\u001b[43mregister_reduce_function\u001b[49m(reduce_agent_data_tensors_)\n",
      "\u001b[31mAttributeError\u001b[39m: 'SIRModel' object has no attribute 'register_reduce_function'"
     ]
    }
   ],
   "source": [
    "model = SIRModel()\n",
    "model.setup(use_gpu=True)  # Enables GPU acceleration if available"
   ]
  },
  {
   "cell_type": "markdown",
   "id": "8ce58e85",
   "metadata": {},
   "source": [
    "## 🧱 Build the Agent Network"
   ]
  },
  {
   "cell_type": "code",
   "execution_count": null,
   "id": "30e144d8",
   "metadata": {},
   "outputs": [],
   "source": [
    "model_creation_start = time()\n",
    "\n",
    "model = generate_small_world_of_agents(\n",
    "    model,\n",
    "    num_agents,\n",
    "    num_init_connections,\n",
    "    int(0.1 * num_agents),  # 10% initially infected\n",
    ")\n",
    "\n",
    "model_creation_end = time()\n",
    "model_creation_duration = model_creation_end - model_creation_start\n",
    "print(f\"Model creation took {model_creation_duration:.2f} seconds.\")"
   ]
  },
  {
   "cell_type": "markdown",
   "id": "7776bdff",
   "metadata": {},
   "source": [
    "## ▶️ Run the Simulation"
   ]
  },
  {
   "cell_type": "code",
   "execution_count": null,
   "id": "521ae688",
   "metadata": {},
   "outputs": [],
   "source": [
    "simulate_start = time()\n",
    "\n",
    "model.simulate(num_ticks=10, sync_workers_every_n_ticks=1)\n",
    "\n",
    "simulate_end = time()\n",
    "simulate_duration = simulate_end - simulate_start\n",
    "print(f\"Simulation took {simulate_duration:.2f} seconds.\")"
   ]
  },
  {
   "cell_type": "markdown",
   "id": "71741380",
   "metadata": {},
   "source": [
    "## 📊 Collect Final States"
   ]
  },
  {
   "cell_type": "code",
   "execution_count": null,
   "id": "ed4e7920",
   "metadata": {},
   "outputs": [],
   "source": [
    "if worker == 0:\n",
    "    result = [\n",
    "        SIRState(model.get_agent_property_value(agent_id, property_name=\"state\"))\n",
    "        for agent_id in range(num_agents)\n",
    "        if model.get_agent_property_value(agent_id, property_name=\"state\") is not None\n",
    "    ]\n",
    "    print(f\"Final state distribution: {[str(state) for state in result[:10]]}...\")"
   ]
  },
  {
   "cell_type": "markdown",
   "id": "d98a4894",
   "metadata": {},
   "source": [
    "## 💾 Save Execution Metrics"
   ]
  },
  {
   "cell_type": "code",
   "execution_count": null,
   "id": "9d355186",
   "metadata": {},
   "outputs": [],
   "source": [
    "import csv\n",
    "\n",
    "if worker == 0:\n",
    "    with open(\"execution_times.csv\", \"a\", newline=\"\") as f:\n",
    "        writer = csv.writer(f)\n",
    "        writer.writerow([\n",
    "            num_agents,\n",
    "            num_init_connections,\n",
    "            num_nodes,\n",
    "            num_workers,\n",
    "            model_creation_duration,\n",
    "            simulate_duration\n",
    "        ])\n",
    "    print(\"Execution time written to 'execution_times.csv'.\")"
   ]
  }
 ],
 "metadata": {
  "kernelspec": {
   "display_name": "sagesim",
   "language": "python",
   "name": "python3"
  },
  "language_info": {
   "codemirror_mode": {
    "name": "ipython",
    "version": 3
   },
   "file_extension": ".py",
   "mimetype": "text/x-python",
   "name": "python",
   "nbconvert_exporter": "python",
   "pygments_lexer": "ipython3",
   "version": "3.13.2"
  }
 },
 "nbformat": 4,
 "nbformat_minor": 5
}
