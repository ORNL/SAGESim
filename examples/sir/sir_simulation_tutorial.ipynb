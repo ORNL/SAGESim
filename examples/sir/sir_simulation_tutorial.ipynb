{
 "cells": [
  {
   "cell_type": "markdown",
   "id": "95428787",
   "metadata": {},
   "source": [
    "# **SIR Agent-Based Model with Behavioral Heterogeneity**\n",
    "\n",
    "This notebook demonstrates how to implement an agent-based SIR (Susceptible–Infected–Recovered) model using the **`sagesim`** library.\n",
    "\n",
    "The classical **SIR model** provides a foundational framework in epidemiology for modeling the spread of infectious diseases. By extending it to an **agent-based model (ABM)**, we capture individual-level variation and interaction patterns, allowing us to simulate more realistic and heterogeneous dynamics of disease transmission.\n",
    "\n",
    "In this implementation:\n",
    "\n",
    "- Each **agent** represents an individual with a unique behavioral profile that influences their susceptibility to infection.\n",
    "- Agents occupy one of three states:\n",
    "  - **Susceptible**: Healthy, but at risk of infection.\n",
    "  - **Infected**: Currently infected and capable of spreading the disease.\n",
    "  - **Recovered**: No longer infectious and assumed immune.\n",
    "\n",
    "- **Transmission** occurs through interactions between *connected agents* (i.e., agents with network edges between them). Importantly, the probability of infection upon contact is **not uniform**. It depends on each agent's **preventative behaviors**, such as:\n",
    "  - Hygiene (e.g., handwashing, mask usage)\n",
    "  - Social distancing\n",
    "  - Vaccination status\n",
    "\n",
    "These behaviors are encoded as 100-dimensional vectors with values in \\([0, 1]\\), where higher values indicate stronger protection.\n",
    "\n",
    "##### **Transmission Probability Based on Protective Behaviors**\n",
    "\n",
    "To model the influence of individual behaviors on transmission, we define the **effective transmission probability** between an infected agent `b` and a susceptible agent `a` as:\n",
    "\n",
    "$$\n",
    "p_{\\text{eff}}(a, b) = p \\cdot (1 - s_a)^\\alpha \\cdot (1 - s_b)^\\beta\n",
    "$$\n",
    "\n",
    "where:\n",
    "- $ p $ is the global base infection probability,\n",
    "- $ s_a = \\text{mean}(a) $ is the average protection level of the susceptible agent,\n",
    "- $ s_b = \\text{mean}(b) $ is the average protection level of the infected agent,\n",
    "- $ \\alpha > 0 $ and $ \\beta > 0 $ control how strongly protective behaviors reduce susceptibility and infectiousness, respectively.\n",
    "\n",
    "This formulation ensures that greater adherence to preventative measures by **either** agent leads to a lower likelihood of transmission."
   ]
  },
  {
   "cell_type": "markdown",
   "id": "188a9e42",
   "metadata": {},
   "source": [
    "##### **Workflow Overview**\n",
    "\n",
    "In the remainder of this notebook, we will build a behavior-aware SIR agent-based model using the `sagesim` library. The following steps mirror the procedure outlined in the project README:\n",
    "\n",
    "1. **Define the `SIRModel` class**  \n",
    "   Subclass the `Model` class from `sagesim` to implement the SIR logic, including state transitions and transmission dynamics influenced by agents’ protective behaviors.\n",
    "\n",
    "2. **Instantiate the model on a contact network**  \n",
    "   Construct a *Watts–Strogatz* small-world network to represent social interactions. Each node corresponds to an agent, and edges define potential transmission pathways. We initialize the `SIRModel` with this network and a population of behaviorally heterogeneous agents.\n",
    "\n",
    "3. **Run the simulation and analyze results**  \n",
    "   Simulate disease spread over time and analyze how individual behaviors shape the epidemic curve and overall dynamics.\n"
   ]
  },
  {
   "cell_type": "markdown",
   "id": "ce2d8c42",
   "metadata": {},
   "source": [
    "## Define the `SIRModel` class ##"
   ]
  },
  {
   "cell_type": "markdown",
   "id": "312153e7",
   "metadata": {},
   "source": [
    "### 1. **Define and Register `SIRBreed`**\n",
    "\n",
    "As explained earlier, we begin by defining a custom breed by subclassing the `Breed` class from the `sagesim` library. In the SIR model, we use a single breed to represent the general population. This breed is implemented as the `SIRBreed` class.\n",
    "\n",
    "- Each agent in this breed has two primary properties:\n",
    "\n",
    "    - **`state`**: A categorical variable indicating the agent's infection status. We encode the three SIR states as:\n",
    "        - `1` — Susceptible  \n",
    "        - `2` — Infected  \n",
    "        - `3` — Recovered\n",
    "\n",
    "    - **`preventative_measures`**: A list of 100 floating-point values that capture the agent’s individual behavior traits—such as hygiene practices, social distancing adherence, or vaccination status—that influence their likelihood of infection.\n",
    "\n",
    "- Recall we register step functions with specified priority levels to define how agents of a breed behave at each simulation step. In the case of the SIR model, we use a single step function that governs how an agent's state evolves over time—for instance, determining whether a susceptible agent becomes infected or an infected agent recovers."
   ]
  },
  {
   "cell_type": "code",
   "execution_count": null,
   "id": "fcf00de0",
   "metadata": {},
   "outputs": [],
   "source": [
    "from enum import Enum\n",
    "from time import time\n",
    "from random import random, sample\n",
    "import networkx as nx\n",
    "from math import mean\n",
    "\n",
    "\n",
    "# import the Breed class from sagesim\n",
    "from sagesim.breed import Breed\n",
    "\n",
    "# Define the SIRState enumeration for agent states\n",
    "class SIRState(Enum):\n",
    "    SUSCEPTIBLE = 1\n",
    "    INFECTED = 2\n",
    "    RECOVERED = 3\n",
    "\n",
    "# Define the step function to be registered for SIRBreed\n",
    "def step_func(agent_ids, agent_index, globals, breeds, locations, state_adt, preventative_measures_adt):\n",
    "    \"\"\"\n",
    "    At each simulation step, this function evaluates a subset of agents—either all agents in a serial run or a partition assigned to\n",
    "    a specific rank in parallel processing—and determines whether an agent's state should change based on interactions with its neighbors\n",
    "    and their respective preventative behaviors.\n",
    "\n",
    "    Parameters:\n",
    "    ----------\n",
    "    agent_ids : list[int]\n",
    "        The adt that contains the IDs of all agents assigned to the current rank, and their neighbors.\n",
    "    agent_index : int\n",
    "        Index of the agent being evaluated in the agent_ids list. \n",
    "    globals : list\n",
    "        Global parameters; \n",
    "        the zero-th global parameter is by default the simulation tick, \n",
    "        the first item will be our infection probability $p$.\n",
    "        the second item is the susceptibility reduction strength $alpha$.\n",
    "        the third item is the infectiousness reduction strength $beta$.\n",
    "    breeds : list\n",
    "        List of breed objects (unused here as we only have one type of breed, but must passed for interface compatibility).\n",
    "    locations : list[list[int]]\n",
    "        Adjacency list specifying neighbors for each agent.\n",
    "    state_adt : list[int]\n",
    "        List of current state of each agent.\n",
    "    preventative_measures_adt : list[list[float]]\n",
    "        List of vectors representing each agent’s preventative behaviors. \n",
    "    Returns:\n",
    "    -------\n",
    "    None\n",
    "        The function updates the `states` list in-place if an agent becomes infected.\n",
    "    \"\"\"\n",
    "\n",
    "    # Retrieve this agent’s neighbors\n",
    "    neighbor_ids = locations[agent_index]\n",
    "\n",
    "    # Skip step if the agent is not susceptible, i.e., if it is already infected or recovered.\n",
    "    if int(state_adt[agent_index]) != 1:\n",
    "        return\n",
    "\n",
    "    # Get global infection probability\n",
    "    p = globals[1]\n",
    "    # Get global susceptibility reduction strength\n",
    "    alpha = globals[2]\n",
    "    # Get global infectiousness reduction strength\n",
    "    beta = globals[3]\n",
    "\n",
    "    # Preventative measures of the current (susceptible) agent\n",
    "    agent_pm = preventative_measures_adt[agent_index]\n",
    "    agent_pm_mean = mean(agent_pm)\n",
    "\n",
    "    # Draw a random number for probabilistic infection check\n",
    "    rand_val = random()\n",
    "\n",
    "    # Loop over all neighbors\n",
    "    for neighbor_id in neighbor_ids:\n",
    "        # Find index of neighbor in agent_ids list\n",
    "        try:\n",
    "            neighbor_index = agent_ids.index(neighbor_id)\n",
    "        except ValueError:\n",
    "            continue  # skip if neighbor ID not found (should not happen)\n",
    "\n",
    "        # Check if the neighbor is infected\n",
    "        if int(state_adt[neighbor_index]) == 2:\n",
    "            neighbor_pm = preventative_measures_adt[neighbor_index]\n",
    "            neighbor_pm_mean = mean(neighbor_pm)\n",
    "            p_eff = p * (1 - agent_pm_mean)**alpha * (1 - neighbor_pm_mean)**beta\n",
    "            # Infection probability depends on 1 - joint safety\n",
    "            if rand_val < p_eff:\n",
    "                state_adt[agent_index] = 2  # Agent becomes infected\n",
    "                return  # No need to continue checking other neighbors\n"
   ]
  },
  {
   "cell_type": "markdown",
   "id": "fcc644ca",
   "metadata": {},
   "source": [
    "Now we are ready to define the `SIRBreed` class, which inherits from the base `Breed` class.\n",
    "\n",
    "- Each breed must be given a unique name. This name is used internally by `sagesim` to identify and manage the breed.\n",
    "- When calling `register_property`, you can optionally specify an initial value to assign to all agents of this breed. If not provided, the default is `nan`. You may also override this value when creating individual agents.\n",
    "- The breed's behavior is defined by registering one or more step functions using `register_step_function()`. You can specify a priority for each function, with the default being `0`."
   ]
  },
  {
   "cell_type": "code",
   "execution_count": null,
   "id": "53567620",
   "metadata": {},
   "outputs": [],
   "source": [
    "\n",
    "class SIRBreed(Breed):\n",
    "    \"\"\"\n",
    "    SIRBreed class the SIR model.\n",
    "    Inherits from the Breed class in the sagesim library.\n",
    "    \"\"\"\n",
    "\n",
    "    def __init__(self) -> None:\n",
    "        name = \"SIR\"\n",
    "        super().__init__(name) \n",
    "        # Register properties for the breed\n",
    "        self.register_property(\"state\", SIRState.SUSCEPTIBLE.value) \n",
    "        self.register_property(\"preventative_measures\", [random.random() for _ in range(100)])\n",
    "        # Register the step function\n",
    "        self.register_step_func(step_func)\n"
   ]
  },
  {
   "cell_type": "markdown",
   "id": "cdd3e180",
   "metadata": {},
   "source": [
    "As each agent "
   ]
  },
  {
   "cell_type": "markdown",
   "id": "7f9c1c0f",
   "metadata": {},
   "source": [
    "### 3. **Create and Connect Agents**\n",
    "\n",
    "\n",
    "With the `SIRBreed` and the reduction function `reduce_agent_data_tensors_` defined, we're now ready to initialize the `SIRModel`. The next step is to implement a class method that creates agents and establishes connections between them.\n",
    "\n",
    "- **Creating agents**: Use the model method `create_agent_of_breed()`, which takes the breed object along with user-defined breed properties (such as `state` and `preventative_measures`). It returns the unique ID of the newly created agent.\n",
    "\n",
    "- **Connecting agents**: Use `self.get_space().connect_agents()` to connect two agents by their IDs. This establishes a neighbor relationship between them in the simulation space.\n",
    "\n",
    "This model also includes a **global property**: the base infection probability. This represents the baseline probability that a susceptible agent becomes infected when in contact with an infected neighbor. The final infection probability is adjusted based on the `preventative_measures` characteristics of both the agent and its neighbor.\n",
    "\n",
    "With these components in place, we’re ready to define the `SIRModel` class tailored to simulate the dynamics of the SIR agent-based model."
   ]
  },
  {
   "cell_type": "code",
   "execution_count": null,
   "id": "77271d9b",
   "metadata": {},
   "outputs": [],
   "source": [
    "from sagesim.model import Model\n",
    "from sagesim.space import NetworkSpace # hopefully, we can avoid this import\n",
    "\n",
    "\n",
    "class SIRModel(Model):\n",
    "    \"\"\"\n",
    "    SIRModel class for the SIR model.\n",
    "    Inherits from the Model class in the sagesim library.\n",
    "    \"\"\"\n",
    "\n",
    "    def __init__(self, p_infection=1.0) -> None:\n",
    "        space = NetworkSpace()\n",
    "        super().__init__(space)\n",
    "        self._sir_breed = SIRBreed()\n",
    "\n",
    "        # Register the breed\n",
    "        self.register_breed(breed=self._sir_breed)\n",
    "\n",
    "        # register user-defined global properties\n",
    "        self.register_global_property(\"p_infection\", p_infection)\n",
    "        self.register_global_property(\"alpha\", 1.0)\n",
    "        self.register_global_property(\"beta\", 1.0)\n",
    "\n",
    "    # create_agent method takes user-defined properties, that is, the state and preventative_measures, to create an agent\n",
    "    def create_agent(self, state, preventative_measures):\n",
    "        agent_id = self.create_agent_of_breed(\n",
    "            self._sir_breed, state=state, preventative_measures=preventative_measures\n",
    "        )\n",
    "        self.get_space().add_agent(agent_id)\n",
    "        return agent_id\n",
    "\n",
    "    def connect_agents(self, agent_0, agent_1):\n",
    "        self.get_space().connect_agents(agent_0, agent_1)\n"
   ]
  },
  {
   "cell_type": "markdown",
   "id": "e37be0cd",
   "metadata": {},
   "source": [
    "## **Instantiate the SIR Model**  \n",
    "\n",
    "For this notebook, we use the *Watts–Strogatz* small-world network for mimic of real-world contact networks, this graph captures key features of real-world contact networks, such as high clustering and short path lengths, making it well-suited for modeling infectious disease spread. Each node in the graph will correspond to an agent, and edges will define neighbor relationships used for potential transmission. \n",
    "\n",
    "Once the network is created, pass it to the model's constructor along with any required parameters (e.g., initial infection probability, number of agents, etc.).\n",
    "\n",
    "Create a SIR model with agents in a small-world network topology.\n",
    "\n",
    "Parameters:\n",
    "- model (SIRModel): An instance of the SIR model.\n",
    "- num_agents (int): Total number of agents.\n",
    "- num_init_connections (int): Each agent is connected to this many neighbors.\n",
    "- num_infected (int): Number of initially infected agents.\n",
    "\n",
    "Returns:\n",
    "- SIRModel: Initialized model with agents and connections.\n",
    "\n",
    "\n"
   ]
  },
  {
   "cell_type": "code",
   "execution_count": null,
   "id": "45e27b1e",
   "metadata": {},
   "outputs": [],
   "source": [
    "model = SIRModel()\n",
    "\n",
    "# MPI environment setup\n",
    "comm = MPI.COMM_WORLD\n",
    "num_workers = comm.Get_size()\n",
    "worker = comm.Get_rank()\n",
    "\n",
    "num_agents = 1000\n",
    "num_init_connections = 6\n",
    "num_nodes = 1  # Logical nodes, can be used for partitioning\n",
    "\n",
    "\n",
    "def generate_small_world_network(n, k, p):\n",
    "    \"\"\"\n",
    "    Generate a small-world network using the Watts-Strogatz model.\n",
    "\n",
    "    Parameters:\n",
    "    - n (int): Number of nodes (agents).\n",
    "    - k (int): Each node is connected to its k nearest neighbors.\n",
    "    - p (float): Probability of rewiring an edge (introduces randomness).\n",
    "\n",
    "    Returns:\n",
    "    - networkx.Graph: Generated network.\n",
    "    \"\"\"\n",
    "    return nx.watts_strogatz_graph(n, k, p)\n",
    "\n",
    "\n",
    "network = generate_small_world_network(num_agents, num_init_connections, 0.2)\n",
    "\n",
    "for n in network.nodes:\n",
    "    preventative_measures = [random() for _ in range(100)]\n",
    "    model.create_agent(SIRState.SUSCEPTIBLE.value, preventative_measures)\n",
    "\n",
    "for n in sample(sorted(network.nodes), num_infected):\n",
    "    model.set_agent_property_value(n, \"state\", SIRState.INFECTED.value)\n",
    "\n",
    "for edge in network.edges:\n",
    "    model.connect_agents(edge[0], edge[1])\n"
   ]
  },
  {
   "cell_type": "markdown",
   "id": "ebc820f2",
   "metadata": {},
   "source": [
    "## 👥 Create and Initialize Agents\n",
    "Agents are placed in the network and randomly assigned an initial state.\n",
    "\n",
    "\n",
    "In this simple SIR model, we define only **one breed**, representing the general population. "
   ]
  },
  {
   "cell_type": "code",
   "execution_count": null,
   "id": "333046e0",
   "metadata": {},
   "outputs": [],
   "source": []
  },
  {
   "cell_type": "markdown",
   "id": "2a1ba222",
   "metadata": {},
   "source": [
    "## ⚙️ Define Simulation Parameters\n",
    "You can modify these values to run different configurations."
   ]
  },
  {
   "cell_type": "code",
   "execution_count": 14,
   "id": "388bf68d",
   "metadata": {},
   "outputs": [],
   "source": [
    "num_agents = 1000\n",
    "num_init_connections = 6\n",
    "num_nodes = 1  # Logical nodes, can be used for partitioning"
   ]
  },
  {
   "cell_type": "markdown",
   "id": "fb294248",
   "metadata": {},
   "source": [
    "## 🛠️ Set up the SIR Model"
   ]
  },
  {
   "cell_type": "code",
   "execution_count": null,
   "id": "1fb5607a",
   "metadata": {},
   "outputs": [
    {
     "ename": "AttributeError",
     "evalue": "'SIRModel' object has no attribute 'register_reduce_function'",
     "output_type": "error",
     "traceback": [
      "\u001b[31m---------------------------------------------------------------------------\u001b[39m",
      "\u001b[31mAttributeError\u001b[39m                            Traceback (most recent call last)",
      "\u001b[36mCell\u001b[39m\u001b[36m \u001b[39m\u001b[32mIn[15]\u001b[39m\u001b[32m, line 1\u001b[39m\n\u001b[32m----> \u001b[39m\u001b[32m1\u001b[39m model = \u001b[43mSIRModel\u001b[49m\u001b[43m(\u001b[49m\u001b[43m)\u001b[49m\n\u001b[32m      2\u001b[39m model.setup(use_gpu=\u001b[38;5;28;01mTrue\u001b[39;00m)  \u001b[38;5;66;03m# Enables GPU acceleration if available\u001b[39;00m\n",
      "\u001b[36mFile \u001b[39m\u001b[32m~/SAGESim/examples/sir/sir_model.py:26\u001b[39m, in \u001b[36mSIRModel.__init__\u001b[39m\u001b[34m(self, p_infection)\u001b[39m\n\u001b[32m     24\u001b[39m \u001b[38;5;28mself\u001b[39m.register_breed(breed=\u001b[38;5;28mself\u001b[39m._sir_breed)\n\u001b[32m     25\u001b[39m \u001b[38;5;28mself\u001b[39m.register_global_property(\u001b[33m\"\u001b[39m\u001b[33mp_infection\u001b[39m\u001b[33m\"\u001b[39m, p_infection)\n\u001b[32m---> \u001b[39m\u001b[32m26\u001b[39m \u001b[38;5;28;43mself\u001b[39;49m\u001b[43m.\u001b[49m\u001b[43mregister_reduce_function\u001b[49m(reduce_agent_data_tensors_)\n",
      "\u001b[31mAttributeError\u001b[39m: 'SIRModel' object has no attribute 'register_reduce_function'"
     ]
    }
   ],
   "source": [
    "model = SIRModel()\n",
    "model.setup(use_gpu=True)  # Enables GPU acceleration if available"
   ]
  },
  {
   "cell_type": "markdown",
   "id": "8ce58e85",
   "metadata": {},
   "source": [
    "## 🧱 Build the Agent Network"
   ]
  },
  {
   "cell_type": "code",
   "execution_count": null,
   "id": "30e144d8",
   "metadata": {},
   "outputs": [],
   "source": [
    "model_creation_start = time()\n",
    "\n",
    "model = generate_small_world_of_agents(\n",
    "    model,\n",
    "    num_agents,\n",
    "    num_init_connections,\n",
    "    int(0.1 * num_agents),  # 10% initially infected\n",
    ")\n",
    "\n",
    "model_creation_end = time()\n",
    "model_creation_duration = model_creation_end - model_creation_start\n",
    "print(f\"Model creation took {model_creation_duration:.2f} seconds.\")"
   ]
  },
  {
   "cell_type": "markdown",
   "id": "7776bdff",
   "metadata": {},
   "source": [
    "## ▶️ Run the Simulation"
   ]
  },
  {
   "cell_type": "code",
   "execution_count": null,
   "id": "521ae688",
   "metadata": {},
   "outputs": [],
   "source": [
    "simulate_start = time()\n",
    "\n",
    "model.simulate(num_ticks=10, sync_workers_every_n_ticks=1)\n",
    "\n",
    "simulate_end = time()\n",
    "simulate_duration = simulate_end - simulate_start\n",
    "print(f\"Simulation took {simulate_duration:.2f} seconds.\")"
   ]
  },
  {
   "cell_type": "markdown",
   "id": "71741380",
   "metadata": {},
   "source": [
    "## 📊 Collect Final States"
   ]
  },
  {
   "cell_type": "code",
   "execution_count": null,
   "id": "ed4e7920",
   "metadata": {},
   "outputs": [],
   "source": [
    "if worker == 0:\n",
    "    result = [\n",
    "        SIRState(model.get_agent_property_value(agent_id, property_name=\"state\"))\n",
    "        for agent_id in range(num_agents)\n",
    "        if model.get_agent_property_value(agent_id, property_name=\"state\") is not None\n",
    "    ]\n",
    "    print(f\"Final state distribution: {[str(state) for state in result[:10]]}...\")"
   ]
  },
  {
   "cell_type": "markdown",
   "id": "d98a4894",
   "metadata": {},
   "source": [
    "## 💾 Save Execution Metrics"
   ]
  },
  {
   "cell_type": "code",
   "execution_count": null,
   "id": "9d355186",
   "metadata": {},
   "outputs": [],
   "source": [
    "import csv\n",
    "\n",
    "if worker == 0:\n",
    "    with open(\"execution_times.csv\", \"a\", newline=\"\") as f:\n",
    "        writer = csv.writer(f)\n",
    "        writer.writerow([\n",
    "            num_agents,\n",
    "            num_init_connections,\n",
    "            num_nodes,\n",
    "            num_workers,\n",
    "            model_creation_duration,\n",
    "            simulate_duration\n",
    "        ])\n",
    "    print(\"Execution time written to 'execution_times.csv'.\")"
   ]
  }
 ],
 "metadata": {
  "kernelspec": {
   "display_name": "sagesim",
   "language": "python",
   "name": "python3"
  },
  "language_info": {
   "codemirror_mode": {
    "name": "ipython",
    "version": 3
   },
   "file_extension": ".py",
   "mimetype": "text/x-python",
   "name": "python",
   "nbconvert_exporter": "python",
   "pygments_lexer": "ipython3",
   "version": "3.13.2"
  }
 },
 "nbformat": 4,
 "nbformat_minor": 5
}
